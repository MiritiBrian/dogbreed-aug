{
 "cells": [
  {
   "cell_type": "markdown",
   "metadata": {},
   "source": [
    "# Image Augmentation Demo Notebook\n",
    "\n",
    "Welcome to the interactive demo for our Image Augmentation project. This notebook demonstrates how to load the dataset, apply augmentations, and visualize the results using our interactive UI.\n",
    "\n",
    "**Instructions:**\n",
    "1. Make sure you have set up your environment and downloaded the dataset as per the README instructions.\n",
    "2. Use the interactive buttons below to:\n",
    "   - Load the dataset.\n",
    "   - Visualize original and augmented images.\n",
    "   - Adjust the zoom level and number of images.\n",
    "3. Watch the output area for status messages.\n",
    "\n",
    "Let's get started!\n"
   ]
  },
  {
   "cell_type": "code",
   "execution_count": 1,
   "metadata": {
    "vscode": {
     "languageId": "plaintext"
    }
   },
   "outputs": [
    {
     "name": "stdout",
     "output_type": "stream",
     "text": [
      "Project root added to sys.path: /Users/user/Desktop/projects-local/assignment\n",
      "Current Working Directory: /Users/user/Desktop/projects-local/assignment/notebooks\n"
     ]
    },
    {
     "name": "stderr",
     "output_type": "stream",
     "text": [
      "2025-03-15 10:09:27.629458: I tensorflow/core/platform/cpu_feature_guard.cc:210] This TensorFlow binary is optimized to use available CPU instructions in performance-critical operations.\n",
      "To enable the following instructions: AVX2 FMA, in other operations, rebuild TensorFlow with the appropriate compiler flags.\n"
     ]
    },
    {
     "name": "stdout",
     "output_type": "stream",
     "text": [
      "All modules imported successfully. Let’s proceed.\n"
     ]
    }
   ],
   "source": [
    "import os\n",
    "import sys\n",
    "\n",
    "# Assume your notebook is in the notebooks/ folder, so the project root is one level up.\n",
    "project_root = os.path.abspath(os.path.join(os.getcwd(), \"..\"))\n",
    "if project_root not in sys.path:\n",
    "    sys.path.insert(0, project_root)\n",
    "\n",
    "print(\"Project root added to sys.path:\", project_root)\n",
    "print(\"Current Working Directory:\", os.getcwd())\n",
    "\n",
    "# Now try importing your modules\n",
    "from src.data_loader import load_images\n",
    "from src.augmentation import get_augmentation_generator\n",
    "from src.visualization import visualize_custom_comparison\n",
    "from src.model import build_cnn, train_model\n",
    "\n",
    "print(\"All modules imported successfully. Let’s proceed.\")\n"
   ]
  },
  {
   "cell_type": "markdown",
   "metadata": {},
   "source": [
    "## Interactive UI Demo\n",
    "\n",
    "Below, you’ll see our interactive UI in action. This is where the magic happens:  \n",
    "- **Load Dataset:** Click the button to load our meticulously curated dataset.\n",
    "- **Visualize Images:** Watch as original and augmented images are displayed side-by-side, proving that we’re not cutting corners.\n",
    "- **Zoom Controls:** Adjust the view to scrutinize every detail with precision.\n",
    "\n"
   ]
  },
  {
   "cell_type": "code",
   "execution_count": 2,
   "metadata": {
    "vscode": {
     "languageId": "plaintext"
    }
   },
   "outputs": [
    {
     "data": {
      "application/vnd.jupyter.widget-view+json": {
       "model_id": "3dffd6eb0f33471c943f096216bc5091",
       "version_major": 2,
       "version_minor": 0
      },
      "text/plain": [
       "HBox(children=(Button(button_style='success', description='Load Dataset', style=ButtonStyle()), Button(button_…"
      ]
     },
     "metadata": {},
     "output_type": "display_data"
    },
    {
     "data": {
      "application/vnd.jupyter.widget-view+json": {
       "model_id": "0b78ec540a0947c9b2f616f6a91a0356",
       "version_major": 2,
       "version_minor": 0
      },
      "text/plain": [
       "Output()"
      ]
     },
     "metadata": {},
     "output_type": "display_data"
    }
   ],
   "source": [
    "# Run the interactive UI. This cell integrates all the functionalities from our source modules.\n",
    "# If this doesn’t work flawlessly, then you need to revisit your code and bring it up to professional standards.\n",
    "%run -i ../src/ui.py\n"
   ]
  },
  {
   "cell_type": "markdown",
   "metadata": {
    "jp-MarkdownHeadingCollapsed": true
   },
   "source": [
    "## Custom Augmentation Verification\n",
    "\n",
    "This section demonstrates our custom augmentation pipeline using a synthetic test image. Instead of a uniform gray image—which wouldn’t clearly reveal the effects of our transformations—we generate a horizontal gradient image. The gradient provides subtle variations in intensity, making it easier to observe how the augmentation alters the image.\n",
    "\n",
    "Below is the code that creates a 128x128 gradient image and displays it:"
   ]
  },
  {
   "cell_type": "code",
   "execution_count": null,
   "metadata": {
    "vscode": {
     "languageId": "plaintext"
    }
   },
   "outputs": [],
   "source": [
    "import numpy as np\n",
    "import matplotlib.pyplot as plt\n",
    "\n",
    "# Create a horizontal gradient dummy image\n",
    "height, width = 128, 128\n",
    "gradient = np.tile(np.linspace(0, 1, width), (height, 1))\n",
    "dummy_image = np.dstack([gradient, gradient, gradient])  # Make it 3-channel\n",
    "\n",
    "plt.imshow(dummy_image, cmap='gray')\n",
    "plt.title(\"Dummy Image with Gradient\")\n",
    "plt.axis(\"off\")\n",
    "plt.show()\n"
   ]
  },
  {
   "cell_type": "markdown",
   "metadata": {},
   "source": [
    "## Model Demonstration\n",
    "\n",
    "For those interested in real-world performance, below is an optional cell that demonstrates building and compiling our CNN model. \n",
    "\n"
   ]
  },
  {
   "cell_type": "code",
   "execution_count": null,
   "metadata": {
    "vscode": {
     "languageId": "plaintext"
    }
   },
   "outputs": [],
   "source": [
    "# Assuming the dataset has been loaded and we know the number of classes\n",
    "# Here, I'm using a dummy value for demonstration; in your project, use the actual number of classes.\n",
    "num_classes = 10  # Replace with your actual number\n",
    "\n",
    "print(\"Building the CNN model with\", num_classes, \"classes...\")\n",
    "model = build_cnn(num_classes)\n",
    "model.summary()  # Expect a well-structured model summary\n"
   ]
  },
  {
   "cell_type": "markdown",
   "metadata": {},
   "source": [
    "## Final Words\n",
    "\n",
    "In this demo notebook. we’ve integrated robust data handling, advanced augmentation, interactive visualization, and even model building—all designed to meet real-world multimedia challenges.\n",
    "\n"
   ]
  },
  {
   "cell_type": "code",
   "execution_count": null,
   "metadata": {},
   "outputs": [],
   "source": []
  },
  {
   "cell_type": "code",
   "execution_count": null,
   "metadata": {},
   "outputs": [],
   "source": []
  },
  {
   "cell_type": "code",
   "execution_count": null,
   "metadata": {},
   "outputs": [],
   "source": []
  },
  {
   "cell_type": "code",
   "execution_count": null,
   "metadata": {},
   "outputs": [],
   "source": []
  },
  {
   "cell_type": "code",
   "execution_count": null,
   "metadata": {},
   "outputs": [],
   "source": []
  },
  {
   "cell_type": "code",
   "execution_count": null,
   "metadata": {},
   "outputs": [],
   "source": []
  }
 ],
 "metadata": {
  "kernelspec": {
   "display_name": "Python 3 (ipykernel)",
   "language": "python",
   "name": "python3"
  },
  "language_info": {
   "codemirror_mode": {
    "name": "ipython",
    "version": 3
   },
   "file_extension": ".py",
   "mimetype": "text/x-python",
   "name": "python",
   "nbconvert_exporter": "python",
   "pygments_lexer": "ipython3",
   "version": "3.11.8"
  }
 },
 "nbformat": 4,
 "nbformat_minor": 4
}
